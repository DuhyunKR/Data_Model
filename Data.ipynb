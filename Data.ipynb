{
 "cells": [
  {
   "cell_type": "code",
   "execution_count": 2,
   "id": "fb10039f",
   "metadata": {},
   "outputs": [],
   "source": [
    "import pandas as pd"
   ]
  },
  {
   "cell_type": "code",
   "execution_count": 6,
   "id": "7bf59e14",
   "metadata": {},
   "outputs": [],
   "source": [
    "df_list = pd.read_csv(\"A회사_보습제_매출데이터_V1.csv\", encoding=\"cp949\")"
   ]
  },
  {
   "cell_type": "code",
   "execution_count": 13,
   "id": "4fd7364b",
   "metadata": {},
   "outputs": [
    {
     "data": {
      "text/html": [
       "<div>\n",
       "<style scoped>\n",
       "    .dataframe tbody tr th:only-of-type {\n",
       "        vertical-align: middle;\n",
       "    }\n",
       "\n",
       "    .dataframe tbody tr th {\n",
       "        vertical-align: top;\n",
       "    }\n",
       "\n",
       "    .dataframe thead th {\n",
       "        text-align: right;\n",
       "    }\n",
       "</style>\n",
       "<table border=\"1\" class=\"dataframe\">\n",
       "  <thead>\n",
       "    <tr style=\"text-align: right;\">\n",
       "      <th></th>\n",
       "      <th>Unnamed: 0</th>\n",
       "      <th>Sep</th>\n",
       "      <th>Oct</th>\n",
       "      <th>Nov</th>\n",
       "      <th>Dec</th>\n",
       "      <th>Jan</th>\n",
       "      <th>Feb</th>\n",
       "    </tr>\n",
       "  </thead>\n",
       "  <tbody>\n",
       "    <tr>\n",
       "      <th>0</th>\n",
       "      <td>총매출</td>\n",
       "      <td>$5,280,000</td>\n",
       "      <td>$5,501,000</td>\n",
       "      <td>$5,469,000</td>\n",
       "      <td>$5,480,000</td>\n",
       "      <td>$5,533,000</td>\n",
       "      <td>$5,554,000</td>\n",
       "    </tr>\n",
       "    <tr>\n",
       "      <th>1</th>\n",
       "      <td>목표매출</td>\n",
       "      <td>$5,280,000</td>\n",
       "      <td>$5,500,000</td>\n",
       "      <td>$5,729,000</td>\n",
       "      <td>$5,968,000</td>\n",
       "      <td>$6,217,000</td>\n",
       "      <td>$6,476,000</td>\n",
       "    </tr>\n",
       "    <tr>\n",
       "      <th>2</th>\n",
       "      <td>광고비용</td>\n",
       "      <td>$1,056,000</td>\n",
       "      <td>$950,400</td>\n",
       "      <td>$739,200</td>\n",
       "      <td>$528,000</td>\n",
       "      <td>$316,800</td>\n",
       "      <td>$316,800</td>\n",
       "    </tr>\n",
       "    <tr>\n",
       "      <th>3</th>\n",
       "      <td>소셜네트워크비용</td>\n",
       "      <td>$0</td>\n",
       "      <td>$105,600</td>\n",
       "      <td>$316,800</td>\n",
       "      <td>$528,000</td>\n",
       "      <td>$739,200</td>\n",
       "      <td>$739,200</td>\n",
       "    </tr>\n",
       "    <tr>\n",
       "      <th>4</th>\n",
       "      <td>1온스별단가</td>\n",
       "      <td>$2.00</td>\n",
       "      <td>$2.00</td>\n",
       "      <td>$2.00</td>\n",
       "      <td>$1.90</td>\n",
       "      <td>$1.90</td>\n",
       "      <td>$1.90</td>\n",
       "    </tr>\n",
       "  </tbody>\n",
       "</table>\n",
       "</div>"
      ],
      "text/plain": [
       "  Unnamed: 0          Sep          Oct          Nov          Dec          Jan  \\\n",
       "0        총매출  $5,280,000   $5,501,000   $5,469,000   $5,480,000   $5,533,000    \n",
       "1       목표매출  $5,280,000   $5,500,000   $5,729,000   $5,968,000   $6,217,000    \n",
       "2       광고비용  $1,056,000     $950,400     $739,200     $528,000     $316,800    \n",
       "3   소셜네트워크비용          $0     $105,600     $316,800     $528,000     $739,200    \n",
       "4     1온스별단가       $2.00        $2.00        $2.00        $1.90        $1.90    \n",
       "\n",
       "           Feb  \n",
       "0  $5,554,000   \n",
       "1  $6,476,000   \n",
       "2    $316,800   \n",
       "3    $739,200   \n",
       "4       $1.90   "
      ]
     },
     "execution_count": 13,
     "metadata": {},
     "output_type": "execute_result"
    }
   ],
   "source": [
    "df_list.head()\n",
    "#매출데이터 월별 표시"
   ]
  },
  {
   "cell_type": "code",
   "execution_count": 8,
   "id": "935c751d",
   "metadata": {},
   "outputs": [
    {
     "name": "stdout",
     "output_type": "stream",
     "text": [
      "<class 'pandas.core.frame.DataFrame'>\n",
      "RangeIndex: 5 entries, 0 to 4\n",
      "Data columns (total 7 columns):\n",
      " #   Column      Non-Null Count  Dtype \n",
      "---  ------      --------------  ----- \n",
      " 0   Unnamed: 0  5 non-null      object\n",
      " 1   Sep         5 non-null      object\n",
      " 2   Oct         5 non-null      object\n",
      " 3   Nov         5 non-null      object\n",
      " 4   Dec         5 non-null      object\n",
      " 5   Jan         5 non-null      object\n",
      " 6   Feb         5 non-null      object\n",
      "dtypes: object(7)\n",
      "memory usage: 408.0+ bytes\n"
     ]
    }
   ],
   "source": [
    "df_list.info()"
   ]
  },
  {
   "cell_type": "code",
   "execution_count": 10,
   "id": "707b36c8",
   "metadata": {},
   "outputs": [
    {
     "data": {
      "text/html": [
       "<div>\n",
       "<style scoped>\n",
       "    .dataframe tbody tr th:only-of-type {\n",
       "        vertical-align: middle;\n",
       "    }\n",
       "\n",
       "    .dataframe tbody tr th {\n",
       "        vertical-align: top;\n",
       "    }\n",
       "\n",
       "    .dataframe thead th {\n",
       "        text-align: right;\n",
       "    }\n",
       "</style>\n",
       "<table border=\"1\" class=\"dataframe\">\n",
       "  <thead>\n",
       "    <tr style=\"text-align: right;\">\n",
       "      <th></th>\n",
       "      <th>Unnamed: 0</th>\n",
       "      <th>Sep</th>\n",
       "      <th>Oct</th>\n",
       "      <th>Nov</th>\n",
       "      <th>Dec</th>\n",
       "      <th>Jan</th>\n",
       "      <th>Feb</th>\n",
       "    </tr>\n",
       "  </thead>\n",
       "  <tbody>\n",
       "    <tr>\n",
       "      <th>0</th>\n",
       "      <td>총매출</td>\n",
       "      <td>$5,280,000</td>\n",
       "      <td>$5,501,000</td>\n",
       "      <td>$5,469,000</td>\n",
       "      <td>$5,480,000</td>\n",
       "      <td>$5,533,000</td>\n",
       "      <td>$5,554,000</td>\n",
       "    </tr>\n",
       "    <tr>\n",
       "      <th>1</th>\n",
       "      <td>목표매출</td>\n",
       "      <td>$5,280,000</td>\n",
       "      <td>$5,500,000</td>\n",
       "      <td>$5,729,000</td>\n",
       "      <td>$5,968,000</td>\n",
       "      <td>$6,217,000</td>\n",
       "      <td>$6,476,000</td>\n",
       "    </tr>\n",
       "    <tr>\n",
       "      <th>2</th>\n",
       "      <td>광고비용</td>\n",
       "      <td>$1,056,000</td>\n",
       "      <td>$950,400</td>\n",
       "      <td>$739,200</td>\n",
       "      <td>$528,000</td>\n",
       "      <td>$316,800</td>\n",
       "      <td>$316,800</td>\n",
       "    </tr>\n",
       "    <tr>\n",
       "      <th>3</th>\n",
       "      <td>소셜네트워크비용</td>\n",
       "      <td>$0</td>\n",
       "      <td>$105,600</td>\n",
       "      <td>$316,800</td>\n",
       "      <td>$528,000</td>\n",
       "      <td>$739,200</td>\n",
       "      <td>$739,200</td>\n",
       "    </tr>\n",
       "    <tr>\n",
       "      <th>4</th>\n",
       "      <td>1온스별단가</td>\n",
       "      <td>$2.00</td>\n",
       "      <td>$2.00</td>\n",
       "      <td>$2.00</td>\n",
       "      <td>$1.90</td>\n",
       "      <td>$1.90</td>\n",
       "      <td>$1.90</td>\n",
       "    </tr>\n",
       "  </tbody>\n",
       "</table>\n",
       "</div>"
      ],
      "text/plain": [
       "  Unnamed: 0          Sep          Oct          Nov          Dec          Jan  \\\n",
       "0        총매출  $5,280,000   $5,501,000   $5,469,000   $5,480,000   $5,533,000    \n",
       "1       목표매출  $5,280,000   $5,500,000   $5,729,000   $5,968,000   $6,217,000    \n",
       "2       광고비용  $1,056,000     $950,400     $739,200     $528,000     $316,800    \n",
       "3   소셜네트워크비용          $0     $105,600     $316,800     $528,000     $739,200    \n",
       "4     1온스별단가       $2.00        $2.00        $2.00        $1.90        $1.90    \n",
       "\n",
       "           Feb  \n",
       "0  $5,554,000   \n",
       "1  $6,476,000   \n",
       "2    $316,800   \n",
       "3    $739,200   \n",
       "4       $1.90   "
      ]
     },
     "execution_count": 10,
     "metadata": {},
     "output_type": "execute_result"
    }
   ],
   "source": [
    "df_list.head()\n",
    "#매출 데이터 월별 표시"
   ]
  },
  {
   "cell_type": "code",
   "execution_count": 12,
   "id": "325615a3",
   "metadata": {},
   "outputs": [
    {
     "data": {
      "text/plain": [
       "'$5,280,000 $5,280,000 $1,056,000 $0 $2.00 '"
      ]
     },
     "execution_count": 12,
     "metadata": {},
     "output_type": "execute_result"
    }
   ],
   "source": [
    "df_list['Sep'].sum()"
   ]
  },
  {
   "cell_type": "code",
   "execution_count": null,
   "id": "bab11425",
   "metadata": {},
   "outputs": [],
   "source": []
  }
 ],
 "metadata": {
  "kernelspec": {
   "display_name": "Python 3 (ipykernel)",
   "language": "python",
   "name": "python3"
  },
  "language_info": {
   "codemirror_mode": {
    "name": "ipython",
    "version": 3
   },
   "file_extension": ".py",
   "mimetype": "text/x-python",
   "name": "python",
   "nbconvert_exporter": "python",
   "pygments_lexer": "ipython3",
   "version": "3.9.13"
  }
 },
 "nbformat": 4,
 "nbformat_minor": 5
}
